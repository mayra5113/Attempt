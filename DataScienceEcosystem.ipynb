{
  "metadata": {
    "kernelspec": {
      "name": "python",
      "display_name": "Python (Pyodide)",
      "language": "python"
    },
    "language_info": {
      "codemirror_mode": {
        "name": "python",
        "version": 3
      },
      "file_extension": ".py",
      "mimetype": "text/x-python",
      "name": "python",
      "nbconvert_exporter": "python",
      "pygments_lexer": "ipython3",
      "version": "3.8"
    }
  },
  "nbformat_minor": 4,
  "nbformat": 4,
  "cells": [
    {
      "cell_type": "markdown",
      "source": "# Data Science Tools and Ecosystem\n\nIn this notebook, Data Science Tools and Ecosystem are summarized.\n",
      "metadata": {}
    },
    {
      "cell_type": "markdown",
      "source": "##### In this notebook, Data Science Tools and Ecosystem are summarized.",
      "metadata": {}
    },
    {
      "cell_type": "markdown",
      "source": "**Objectives:**\n\n* Describe R capabilities and RStudio environment.\n* Use the inbuilt R plot function.\n* Explain version control and describe the Git and GitHub environment.\n* Describe the purpose of source repositories and explain how GitHub satisfies the needs of a source repository.\n* Explain how to sign up for a GitHub account and describe how to create a repository.",
      "metadata": {}
    },
    {
      "cell_type": "markdown",
      "source": "# Some of the popular languages that Data Scientists use are:\n1. C++\n2. VBA\n3. SAS",
      "metadata": {}
    },
    {
      "cell_type": "markdown",
      "source": "# Some of the commonly used libraries used by Data Scientists include:\n- NumPy\n- Matplotlib\n- Pandas",
      "metadata": {}
    },
    {
      "cell_type": "code",
      "source": "| Data Science Tools |\n| ------------------ |\n| R |\n| Python |\n| TensorFlow |",
      "metadata": {
        "trusted": true,
        "scrolled": true
      },
      "outputs": [
        {
          "ename": "<class 'SyntaxError'>",
          "evalue": "invalid syntax (<ipython-input-13-822c2ced7960>, line 3)",
          "traceback": [
            "\u001b[0;36m  Cell \u001b[0;32mIn[13], line 3\u001b[0;36m\u001b[0m\n\u001b[0;31m    | Data Science Tools|\u001b[0m\n\u001b[0m    ^\u001b[0m\n\u001b[0;31mSyntaxError\u001b[0m\u001b[0;31m:\u001b[0m invalid syntax\n"
          ],
          "output_type": "error"
        }
      ],
      "execution_count": 13
    },
    {
      "cell_type": "markdown",
      "source": "### Below are a few examples of evaluating arithmetic expressions in Python",
      "metadata": {}
    },
    {
      "cell_type": "code",
      "source": "#  This a simple arithmetic expression to mutiply then add integers\n(3*4)+5",
      "metadata": {
        "trusted": true
      },
      "outputs": [
        {
          "execution_count": 9,
          "output_type": "execute_result",
          "data": {
            "text/plain": "17"
          },
          "metadata": {}
        }
      ],
      "execution_count": 9
    },
    {
      "cell_type": "code",
      "source": "# This will convert 200 minutes to hours by diving by 60\n\n(200)/60",
      "metadata": {
        "trusted": true
      },
      "outputs": [
        {
          "execution_count": 11,
          "output_type": "execute_result",
          "data": {
            "text/plain": "3.3333333333333335"
          },
          "metadata": {}
        }
      ],
      "execution_count": 11
    },
    {
      "cell_type": "markdown",
      "source": "## Author\n* Meiieng Lam",
      "metadata": {}
    }
  ]
}